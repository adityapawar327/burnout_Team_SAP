{
 "cells": [
  {
   "cell_type": "code",
   "execution_count": 1,
   "metadata": {
    "_cell_guid": "b1076dfc-b9ad-4769-8c92-a6c4dae69d19",
    "_uuid": "8f2839f25d086af736a60e9eeb907d3b93b6e0e5",
    "execution": {
     "iopub.execute_input": "2025-06-14T15:00:55.544252Z",
     "iopub.status.busy": "2025-06-14T15:00:55.543180Z",
     "iopub.status.idle": "2025-06-14T15:00:57.738697Z",
     "shell.execute_reply": "2025-06-14T15:00:57.732931Z",
     "shell.execute_reply.started": "2025-06-14T15:00:55.544216Z"
    },
    "trusted": true
   },
   "outputs": [
    {
     "name": "stdout",
     "output_type": "stream",
     "text": [
      "/kaggle/input/burnout-datathon-ieeecsmuj/sample_submission.csv\n",
      "/kaggle/input/burnout-datathon-ieeecsmuj/val.csv\n",
      "/kaggle/input/burnout-datathon-ieeecsmuj/train.csv\n",
      "/kaggle/input/burnout-datathon-ieeecsmuj/test.csv\n"
     ]
    }
   ],
   "source": [
    "# This Python 3 environment comes with many helpful analytics libraries installed\n",
    "# It is defined by the kaggle/python Docker image: https://github.com/kaggle/docker-python\n",
    "# For example, here's several helpful packages to load\n",
    "\n",
    "import numpy as np # linear algebra\n",
    "import pandas as pd # data processing, CSV file I/O (e.g. pd.read_csv)\n",
    "\n",
    "# Input data files are available in the read-only \"../input/\" directory\n",
    "# For example, running this (by clicking run or pressing Shift+Enter) will list all files under the input directory\n",
    "\n",
    "import os\n",
    "for dirname, _, filenames in os.walk('/kaggle/input'):\n",
    "    for filename in filenames:\n",
    "        print(os.path.join(dirname, filename))\n",
    "\n",
    "# You can write up to 20GB to the current directory (/kaggle/working/) that gets preserved as output when you create a version using \"Save & Run All\" \n",
    "# You can also write temporary files to /kaggle/temp/, but they won't be saved outside of the current session"
   ]
  },
  {
   "cell_type": "code",
   "execution_count": 2,
   "metadata": {
    "execution": {
     "iopub.execute_input": "2025-06-14T15:00:57.740318Z",
     "iopub.status.busy": "2025-06-14T15:00:57.739986Z",
     "iopub.status.idle": "2025-06-14T15:01:04.809741Z",
     "shell.execute_reply": "2025-06-14T15:01:04.802675Z",
     "shell.execute_reply.started": "2025-06-14T15:00:57.740291Z"
    },
    "trusted": true
   },
   "outputs": [
    {
     "name": "stdout",
     "output_type": "stream",
     "text": [
      "Requirement already satisfied: pip in /usr/local/lib/python3.10/site-packages (23.0.1)\n",
      "Collecting pip\n",
      "  Downloading pip-25.1.1-py3-none-any.whl (1.8 MB)\n",
      "\u001b[2K     \u001b[90m━━━━━━━━━━━━━━━━━━━━━━━━━━━━━━━━━━━━━━━━\u001b[0m \u001b[32m1.8/1.8 MB\u001b[0m \u001b[31m19.8 MB/s\u001b[0m eta \u001b[36m0:00:00\u001b[0ma \u001b[36m0:00:01\u001b[0m\n",
      "\u001b[?25hInstalling collected packages: pip\n",
      "  Attempting uninstall: pip\n",
      "    Found existing installation: pip 23.0.1\n",
      "    Uninstalling pip-23.0.1:\n",
      "      Successfully uninstalled pip-23.0.1\n",
      "Successfully installed pip-25.1.1\n",
      "\u001b[33mWARNING: Running pip as the 'root' user can result in broken permissions and conflicting behaviour with the system package manager. It is recommended to use a virtual environment instead: https://pip.pypa.io/warnings/venv\u001b[0m\u001b[33m\n",
      "\u001b[0mNote: you may need to restart the kernel to use updated packages.\n"
     ]
    }
   ],
   "source": [
    "pip install --upgrade pip"
   ]
  },
  {
   "cell_type": "code",
   "execution_count": 3,
   "metadata": {
    "execution": {
     "iopub.execute_input": "2025-06-14T15:01:04.812135Z",
     "iopub.status.busy": "2025-06-14T15:01:04.811848Z",
     "iopub.status.idle": "2025-06-14T15:01:17.405145Z",
     "shell.execute_reply": "2025-06-14T15:01:17.399078Z",
     "shell.execute_reply.started": "2025-06-14T15:01:04.812095Z"
    },
    "trusted": true
   },
   "outputs": [
    {
     "name": "stdout",
     "output_type": "stream",
     "text": [
      "Requirement already satisfied: pandas in /usr/local/lib/python3.10/site-packages (2.2.3)\n",
      "Requirement already satisfied: numpy in /usr/local/lib/python3.10/site-packages (2.0.2)\n",
      "Requirement already satisfied: scikit-learn in /usr/local/lib/python3.10/site-packages (1.6.1)\n",
      "Collecting xgboost\n",
      "  Downloading xgboost-3.0.2-py3-none-manylinux_2_28_x86_64.whl.metadata (2.1 kB)\n",
      "Requirement already satisfied: python-dateutil>=2.8.2 in /usr/local/lib/python3.10/site-packages (from pandas) (2.9.0.post0)\n",
      "Requirement already satisfied: pytz>=2020.1 in /usr/local/lib/python3.10/site-packages (from pandas) (2025.2)\n",
      "Requirement already satisfied: tzdata>=2022.7 in /usr/local/lib/python3.10/site-packages (from pandas) (2025.2)\n",
      "Requirement already satisfied: scipy>=1.6.0 in /usr/local/lib/python3.10/site-packages (from scikit-learn) (1.15.2)\n",
      "Requirement already satisfied: joblib>=1.2.0 in /usr/local/lib/python3.10/site-packages (from scikit-learn) (1.5.0)\n",
      "Requirement already satisfied: threadpoolctl>=3.1.0 in /usr/local/lib/python3.10/site-packages (from scikit-learn) (3.6.0)\n",
      "Requirement already satisfied: nvidia-nccl-cu12 in /usr/local/lib/python3.10/site-packages (from xgboost) (2.21.5)\n",
      "Requirement already satisfied: six>=1.5 in /usr/local/lib/python3.10/site-packages (from python-dateutil>=2.8.2->pandas) (1.17.0)\n",
      "Downloading xgboost-3.0.2-py3-none-manylinux_2_28_x86_64.whl (253.9 MB)\n",
      "\u001b[2K   \u001b[90m━━━━━━━━━━━━━━━━━━━━━━━━━━━━━━━━━━━━━━━━\u001b[0m \u001b[32m253.9/253.9 MB\u001b[0m \u001b[31m43.2 MB/s\u001b[0m eta \u001b[36m0:00:00\u001b[0m00:01\u001b[0m00:01\u001b[0m\n",
      "\u001b[?25hInstalling collected packages: xgboost\n",
      "Successfully installed xgboost-3.0.2\n",
      "\u001b[33mWARNING: Running pip as the 'root' user can result in broken permissions and conflicting behaviour with the system package manager, possibly rendering your system unusable. It is recommended to use a virtual environment instead: https://pip.pypa.io/warnings/venv. Use the --root-user-action option if you know what you are doing and want to suppress this warning.\u001b[0m\u001b[33m\n",
      "\u001b[0mNote: you may need to restart the kernel to use updated packages.\n"
     ]
    }
   ],
   "source": [
    "%pip install pandas numpy scikit-learn xgboost"
   ]
  },
  {
   "cell_type": "code",
   "execution_count": 4,
   "metadata": {
    "execution": {
     "iopub.execute_input": "2025-06-14T15:01:17.407868Z",
     "iopub.status.busy": "2025-06-14T15:01:17.407635Z",
     "iopub.status.idle": "2025-06-14T15:28:42.615200Z",
     "shell.execute_reply": "2025-06-14T15:28:42.609929Z",
     "shell.execute_reply.started": "2025-06-14T15:01:17.407839Z"
    },
    "trusted": true
   },
   "outputs": [
    {
     "name": "stdout",
     "output_type": "stream",
     "text": [
      "Train Shape : (1914056, 45)\n",
      "Test Shape : (546874, 44)\n",
      "Adding additional engineered features...\n",
      "\n",
      "Training XGBoost model with optimized parameters...\n",
      "Training XGBoost model...\n",
      "\n",
      "MODEL PERFORMANCE:\n",
      "XGBoost RMSE Score: 0.13247135\n",
      "XGBoost Accuracy: 86.752865%\n",
      "\n",
      "Generating test predictions...\n",
      "\n",
      "============================================================\n",
      "FINAL MODEL PERFORMANCE SUMMARY\n",
      "============================================================\n",
      "MODEL: XGBoost (Optimized)\n",
      "RMSE SCORE: 0.13247135\n",
      "ACCURACY: 86.752865%\n",
      "============================================================\n",
      "✅ KAGGLE SUBMISSION FILE 'submission.csv' CREATED!\n",
      "Total predictions: 546874\n",
      "Prediction range: 69.915802 - 110.033325\n",
      "============================================================\n"
     ]
    }
   ],
   "source": [
    "import pandas as pd\n",
    "import numpy as np\n",
    "from sklearn.model_selection import train_test_split\n",
    "from xgboost import XGBRegressor\n",
    "from sklearn.metrics import mean_squared_error\n",
    "\n",
    "# Load data\n",
    "train = pd.read_csv('/kaggle/input/burnout-datathon-ieeecsmuj/train.csv')\n",
    "test = pd.read_csv('/kaggle/input/burnout-datathon-ieeecsmuj/test.csv')\n",
    "sample = pd.read_csv('/kaggle/input/burnout-datathon-ieeecsmuj/sample_submission.csv')\n",
    "\n",
    "print(\"Train Shape :\", train.shape)\n",
    "print(\"Test Shape :\", test.shape)\n",
    "\n",
    "TARGET = 'Lap_Time_Seconds'\n",
    "\n",
    "DROP_COLS = [\n",
    "    'Unique ID', 'rider_name', 'team_name', 'bike_name',\n",
    "    'circuit_name', 'points', 'position'\n",
    "]\n",
    "\n",
    "def add_features(df):\n",
    "    \"\"\"Add engineered features to the dataframe\"\"\"\n",
    "    df['LapTime_Estimate'] = df['Circuit_Length_km'] / df['Avg_Speed_kmh'] * 3600\n",
    "    df['Points_per_Year'] = df['Championship_Points'] / (df['years_active'] + 1)\n",
    "    df['Finish_Rate'] = df['finishes'] / (df['starts'] + 1)\n",
    "    df['Podium_Rate'] = df['podiums'] / (df['starts'] + 1)\n",
    "    df['Win_Rate'] = df['wins'] / (df['starts'] + 1)\n",
    "    df['Avg_Temp'] = (df['Ambient_Temperature_Celsius'] + df['Track_Temperature_Celsius']) / 2\n",
    "    \n",
    "    # Advanced features\n",
    "    df['Experience_Factor'] = df['years_active'] * df['Championship_Points']\n",
    "    df['Performance_Ratio'] = df['wins'] / (df['Championship_Points'] + 1)\n",
    "    df['Speed_Efficiency'] = df['Avg_Speed_kmh'] / df['Circuit_Length_km']\n",
    "    df['Tire_Speed_Interaction'] = df['Tire_Degradation_Factor_per_Lap'] * df['Avg_Speed_kmh']\n",
    "    df['Temp_Differential'] = df['Track_Temperature_Celsius'] - df['Ambient_Temperature_Celsius']\n",
    "    df['Circuit_Difficulty'] = df['Corners_per_Lap'] * df['Circuit_Length_km']\n",
    "    df['Rider_Consistency'] = df['finishes'] / (df['starts'] + 1) * df['years_active']\n",
    "    df['Power_to_Weight'] = df['Avg_Speed_kmh'] / (df['Circuit_Length_km'] + 1)\n",
    "    \n",
    "    return df\n",
    "\n",
    "# Add initial features\n",
    "train = add_features(train)\n",
    "test = add_features(test)\n",
    "\n",
    "# Store test IDs before processing\n",
    "test_ids = test['Unique ID'].copy()\n",
    "\n",
    "# Prepare features and target\n",
    "X = train.drop(DROP_COLS + [TARGET], axis=1)\n",
    "X_test = test.drop(DROP_COLS, axis=1)\n",
    "y = train[TARGET]\n",
    "\n",
    "# Handle missing values and categorical encoding\n",
    "all_data = pd.concat([X, X_test], axis=0)\n",
    "all_data.fillna(-1, inplace=True)\n",
    "\n",
    "# Encode categorical variables\n",
    "cat_cols = all_data.select_dtypes(include='object').columns\n",
    "for col in cat_cols:\n",
    "    all_data[col] = all_data[col].astype('category').cat.codes\n",
    "\n",
    "# Split back to train and test\n",
    "X = all_data.iloc[:len(train)].copy()\n",
    "X_test = all_data.iloc[len(train):].copy()\n",
    "\n",
    "# Train-validation split\n",
    "X_train, X_val, y_train, y_val = train_test_split(X, y, test_size=0.2, random_state=42)\n",
    "\n",
    "# Add more engineered features\n",
    "print(\"Adding additional engineered features...\")\n",
    "\n",
    "# Speed degradation interaction\n",
    "X_train['Speed_Degradation'] = X_train['Avg_Speed_kmh'] * X_train['Tire_Degradation_Factor_per_Lap']\n",
    "X_val['Speed_Degradation'] = X_val['Avg_Speed_kmh'] * X_val['Tire_Degradation_Factor_per_Lap']\n",
    "X_test['Speed_Degradation'] = X_test['Avg_Speed_kmh'] * X_test['Tire_Degradation_Factor_per_Lap']\n",
    "\n",
    "# Temperature-condition interaction\n",
    "X_train['Temp_Condition'] = X_train['Track_Temperature_Celsius'] * X_train['Track_Condition']\n",
    "X_val['Temp_Condition'] = X_val['Track_Temperature_Celsius'] * X_val['Track_Condition']\n",
    "X_test['Temp_Condition'] = X_test['Track_Temperature_Celsius'] * X_test['Track_Condition']\n",
    "\n",
    "# Circuit complexity ratio\n",
    "X_train['Corners_per_Km'] = X_train['Corners_per_Lap'] / (X_train['Circuit_Length_km'] + 1e-3)\n",
    "X_val['Corners_per_Km'] = X_val['Corners_per_Lap'] / (X_val['Circuit_Length_km'] + 1e-3)\n",
    "X_test['Corners_per_Km'] = X_test['Corners_per_Lap'] / (X_test['Circuit_Length_km'] + 1e-3)\n",
    "\n",
    "# More advanced interaction features\n",
    "X_train['Speed_Temp_Interaction'] = X_train['Avg_Speed_kmh'] * X_train['Avg_Temp']\n",
    "X_val['Speed_Temp_Interaction'] = X_val['Avg_Speed_kmh'] * X_val['Avg_Temp']\n",
    "X_test['Speed_Temp_Interaction'] = X_test['Avg_Speed_kmh'] * X_test['Avg_Temp']\n",
    "\n",
    "X_train['Experience_Speed'] = X_train['years_active'] * X_train['Avg_Speed_kmh']\n",
    "X_val['Experience_Speed'] = X_val['years_active'] * X_val['Avg_Speed_kmh']\n",
    "X_test['Experience_Speed'] = X_test['years_active'] * X_test['Avg_Speed_kmh']\n",
    "\n",
    "# Enhanced XGBoost model with optimized hyperparameters for lower RMSE\n",
    "print(\"\\nTraining XGBoost model with optimized parameters...\")\n",
    "xgb_model = XGBRegressor(\n",
    "    n_estimators=7000,\n",
    "    learning_rate=0.006,\n",
    "    max_depth=20,\n",
    "    subsample=0.8,\n",
    "    colsample_bytree=0.85,\n",
    "    colsample_bylevel=0.85,\n",
    "    colsample_bynode=0.85,\n",
    "    reg_alpha=4.0,\n",
    "    reg_lambda=5.0,\n",
    "    min_child_weight=1,\n",
    "    gamma=0.1,\n",
    "    max_delta_step=0,\n",
    "    tree_method='hist',\n",
    "    grow_policy='depthwise',\n",
    "    max_leaves=0,\n",
    "    random_state=42,\n",
    "    verbosity=0,\n",
    "    n_jobs=-1  \n",
    ")\n",
    "\n",
    "print(\"Training XGBoost model...\")\n",
    "xgb_model.fit(X_train, y_train)\n",
    "\n",
    "# Evaluate model performance\n",
    "xgb_val_preds = xgb_model.predict(X_val)\n",
    "xgb_rmse = np.sqrt(mean_squared_error(y_val, xgb_val_preds))\n",
    "xgb_accuracy = max(0, (1 - xgb_rmse) * 100)\n",
    "\n",
    "print(f\"\\nMODEL PERFORMANCE:\")\n",
    "print(f\"XGBoost RMSE Score: {xgb_rmse:.8f}\")\n",
    "print(f\"XGBoost Accuracy: {xgb_accuracy:.6f}%\")\n",
    "\n",
    "# Generate test predictions\n",
    "print(\"\\nGenerating test predictions...\")\n",
    "xgb_test_preds = xgb_model.predict(X_test)\n",
    "\n",
    "# Create Kaggle submission file\n",
    "submission = pd.DataFrame({\n",
    "    'Unique ID': test_ids,\n",
    "    'Lap_Time_Seconds': xgb_test_preds\n",
    "})\n",
    "\n",
    "# Save the submission file for Kaggle\n",
    "submission.to_csv('submission.csv', index=False)\n",
    "\n",
    "# Performance summary\n",
    "print(\"\\n\" + \"=\"*60)\n",
    "print(\"FINAL MODEL PERFORMANCE SUMMARY\")\n",
    "print(\"=\"*60)\n",
    "print(f\"MODEL: XGBoost (Optimized)\")\n",
    "print(f\"RMSE SCORE: {xgb_rmse:.8f}\")\n",
    "print(f\"ACCURACY: {xgb_accuracy:.6f}%\")\n",
    "print(\"=\"*60)\n",
    "print(f\"✅ KAGGLE SUBMISSION FILE 'submission.csv' CREATED!\")\n",
    "print(f\"Total predictions: {len(submission)}\")\n",
    "print(f\"Prediction range: {xgb_test_preds.min():.6f} - {xgb_test_preds.max():.6f}\")\n",
    "print(\"=\"*60)"
   ]
  }
 ],
 "metadata": {
  "kaggle": {
   "accelerator": "tpu1vmV38",
   "dataSources": [
    {
     "databundleVersionId": 12651513,
     "sourceId": 104857,
     "sourceType": "competition"
    }
   ],
   "isGpuEnabled": false,
   "isInternetEnabled": true,
   "language": "python",
   "sourceType": "notebook"
  },
  "kernelspec": {
   "display_name": "Python 3",
   "language": "python",
   "name": "python3"
  },
  "language_info": {
   "codemirror_mode": {
    "name": "ipython",
    "version": 3
   },
   "file_extension": ".py",
   "mimetype": "text/x-python",
   "name": "python",
   "nbconvert_exporter": "python",
   "pygments_lexer": "ipython3",
   "version": "3.10.17"
  }
 },
 "nbformat": 4,
 "nbformat_minor": 4
}
